{
  "nbformat": 4,
  "nbformat_minor": 0,
  "metadata": {
    "colab": {
      "name": "it_starts_with_tensor.ipynb",
      "provenance": [],
      "authorship_tag": "ABX9TyNWsjOgBlpULeZw9ijtiEyP",
      "include_colab_link": true
    },
    "kernelspec": {
      "name": "python3",
      "display_name": "Python 3"
    }
  },
  "cells": [
    {
      "cell_type": "markdown",
      "metadata": {
        "id": "view-in-github",
        "colab_type": "text"
      },
      "source": [
        "<a href=\"https://colab.research.google.com/github/belugarose/pytorch-code/blob/master/it_starts_with_tensor.ipynb\" target=\"_parent\"><img src=\"https://colab.research.google.com/assets/colab-badge.svg\" alt=\"Open In Colab\"/></a>"
      ]
    },
    {
      "cell_type": "code",
      "metadata": {
        "id": "AATpBsBMXErv",
        "colab_type": "code",
        "colab": {}
      },
      "source": [
        "import torch"
      ],
      "execution_count": null,
      "outputs": []
    },
    {
      "cell_type": "markdown",
      "metadata": {
        "id": "7Y7G-7Jd-1md",
        "colab_type": "text"
      },
      "source": [
        "# Multimensional arrays"
      ]
    },
    {
      "cell_type": "code",
      "metadata": {
        "id": "Kiw2jIyJ-7zs",
        "colab_type": "code",
        "colab": {}
      },
      "source": [
        "torch.ones(3)"
      ],
      "execution_count": null,
      "outputs": []
    },
    {
      "cell_type": "code",
      "metadata": {
        "id": "Pn_-zTIsaV8u",
        "colab_type": "code",
        "colab": {}
      },
      "source": [
        "torch.zeros(6)"
      ],
      "execution_count": null,
      "outputs": []
    },
    {
      "cell_type": "code",
      "metadata": {
        "id": "vxENrvrFaZCz",
        "colab_type": "code",
        "colab": {}
      },
      "source": [
        "torch.tensor([4.0, 1.0, 5.0])"
      ],
      "execution_count": null,
      "outputs": []
    },
    {
      "cell_type": "code",
      "metadata": {
        "id": "ETv5oPcHad8_",
        "colab_type": "code",
        "colab": {}
      },
      "source": [
        "points = torch.tensor([[4.0, 1.], [5.0, 3.0], [2.0, 1.0]])\n",
        "points.shape"
      ],
      "execution_count": null,
      "outputs": []
    },
    {
      "cell_type": "code",
      "metadata": {
        "id": "2B1T_4SU_Ya5",
        "colab_type": "code",
        "colab": {}
      },
      "source": [
        "points[0, 1]"
      ],
      "execution_count": null,
      "outputs": []
    },
    {
      "cell_type": "markdown",
      "metadata": {
        "id": "U6MYJcJqb-YK",
        "colab_type": "text"
      },
      "source": [
        "# Named tensors\n"
      ]
    },
    {
      "cell_type": "markdown",
      "metadata": {
        "id": "d-a_jbVlOpdF",
        "colab_type": "text"
      },
      "source": [
        "`refine_names()`"
      ]
    },
    {
      "cell_type": "code",
      "metadata": {
        "id": "6C6vs8TobnDI",
        "colab_type": "code",
        "colab": {}
      },
      "source": [
        "weights_named = torch.tensor([0.2126, 0.7152, 0.0722], names=['channels'])\n",
        "weights_named"
      ],
      "execution_count": null,
      "outputs": []
    },
    {
      "cell_type": "code",
      "metadata": {
        "id": "i9A0tAPgeRUt",
        "colab_type": "code",
        "colab": {}
      },
      "source": [
        "img_t = torch.randn(3, 5, 5)\n",
        "batch_t = torch.randn(2, 3, 5, 5)\n",
        "\n",
        "img_named = img_t.refine_names(..., 'channels', 'rows', 'columns')\n",
        "batch_named = batch_t.refine_names(..., 'channels', 'rows', 'columns')\n",
        "\n",
        "print(img_named, batch_named)"
      ],
      "execution_count": null,
      "outputs": []
    },
    {
      "cell_type": "code",
      "metadata": {
        "id": "xVdgn3o_fnBN",
        "colab_type": "code",
        "colab": {}
      },
      "source": [
        "img_gray_naive = img_t.mean(-3)\n",
        "batch_gray_naive = batch_t.mean(-3)\n",
        "img_gray_naive.shape, batch_gray_naive.shape"
      ],
      "execution_count": null,
      "outputs": []
    },
    {
      "cell_type": "markdown",
      "metadata": {
        "id": "OptFS_N8nEtc",
        "colab_type": "text"
      },
      "source": [
        "`align_as`  \n",
        "returns a tensor with missing dimensions added and existing ones permuted to the right order."
      ]
    },
    {
      "cell_type": "code",
      "metadata": {
        "id": "o5PSKYFFnaq2",
        "colab_type": "code",
        "colab": {}
      },
      "source": [
        "weights_aligned = weights_named.align_as(img_named)\n",
        "weights_aligned.shape, weights_aligned.names"
      ],
      "execution_count": null,
      "outputs": []
    },
    {
      "cell_type": "markdown",
      "metadata": {
        "id": "JQjHlmAlqhRr",
        "colab_type": "text"
      },
      "source": [
        "`sum`"
      ]
    },
    {
      "cell_type": "code",
      "metadata": {
        "id": "_bLyZyoyqka3",
        "colab_type": "code",
        "colab": {}
      },
      "source": [
        "gray_named = img_t * weights_aligned\n",
        "print(gray_named.shape, gray_named.names)\n",
        "gray_named_sum = gray_named.sum('channels')\n",
        "print(gray_named_sum.shape, gray_named_sum.names)"
      ],
      "execution_count": null,
      "outputs": []
    },
    {
      "cell_type": "markdown",
      "metadata": {
        "id": "cyghvZZxvDq0",
        "colab_type": "text"
      },
      "source": [
        "`rename`  \n",
        "overwrite or drop(by passing in None)existing names"
      ]
    },
    {
      "cell_type": "code",
      "metadata": {
        "id": "FEyItPYirT7i",
        "colab_type": "code",
        "colab": {}
      },
      "source": [
        "gray_renamed = gray_named.rename(None)\n",
        "gray_renamed.names"
      ],
      "execution_count": null,
      "outputs": []
    },
    {
      "cell_type": "markdown",
      "metadata": {
        "id": "5Hb486rMvj3e",
        "colab_type": "text"
      },
      "source": [
        "# Tensor element types"
      ]
    },
    {
      "cell_type": "code",
      "metadata": {
        "id": "pJLOJawQvjKZ",
        "colab_type": "code",
        "colab": {}
      },
      "source": [
        "double_points = torch.ones(10, 2, dtype=torch.double)\n",
        "double_points.dtype"
      ],
      "execution_count": null,
      "outputs": []
    },
    {
      "cell_type": "code",
      "metadata": {
        "id": "7MAWyD__6ROl",
        "colab_type": "code",
        "colab": {}
      },
      "source": [
        "short_points = double_points.to(torch.short)\n",
        "short_points.dtype"
      ],
      "execution_count": null,
      "outputs": []
    },
    {
      "cell_type": "markdown",
      "metadata": {
        "id": "BDtrU3v7AWYj",
        "colab_type": "text"
      },
      "source": [
        "# Storage of tensors"
      ]
    },
    {
      "cell_type": "code",
      "metadata": {
        "id": "VzWe71j-AVlF",
        "colab_type": "code",
        "colab": {}
      },
      "source": [
        "points = torch.randn(2, 3)\n",
        "ps = points.storage()\n",
        "print(ps, ps[0])"
      ],
      "execution_count": null,
      "outputs": []
    },
    {
      "cell_type": "code",
      "metadata": {
        "id": "J7RXfAHTAoJ-",
        "colab_type": "code",
        "colab": {}
      },
      "source": [
        "a = torch.ones(2, 3)\n",
        "a.zero_()"
      ],
      "execution_count": null,
      "outputs": []
    },
    {
      "cell_type": "markdown",
      "metadata": {
        "id": "VONX-Cgu6Ru_",
        "colab_type": "text"
      },
      "source": [
        "# Tensor metadata"
      ]
    },
    {
      "cell_type": "markdown",
      "metadata": {
        "id": "SlKGZ4qEImjj",
        "colab_type": "text"
      },
      "source": [
        "## size, offset and stride"
      ]
    },
    {
      "cell_type": "code",
      "metadata": {
        "id": "TivRSJOC6XbV",
        "colab_type": "code",
        "colab": {}
      },
      "source": [
        "points = torch.tensor([[4.0, 1.0], [5.0, 3.0], [2.0, 1.0]])\n",
        "second_point = points[1]\n",
        "print(second_point.storage_offset(), second_point.size())"
      ],
      "execution_count": null,
      "outputs": []
    },
    {
      "cell_type": "code",
      "metadata": {
        "id": "kpEAuC_EBwDG",
        "colab_type": "code",
        "colab": {}
      },
      "source": [
        "print(points.stride(), second_point.stride())"
      ],
      "execution_count": null,
      "outputs": []
    },
    {
      "cell_type": "markdown",
      "metadata": {
        "id": "S2KZivlZDFxf",
        "colab_type": "text"
      },
      "source": [
        "## transpose"
      ]
    },
    {
      "cell_type": "markdown",
      "metadata": {
        "id": "2YVh6UrRDZSp",
        "colab_type": "text"
      },
      "source": [
        "`t()`  \n",
        "this is a shorthand alternaative to `transpose` for **two-dimensional** tensors."
      ]
    },
    {
      "cell_type": "code",
      "metadata": {
        "id": "I4XiAW3tDIvM",
        "colab_type": "code",
        "colab": {}
      },
      "source": [
        "points = torch.rand(2, 3)\n",
        "points_t = points.t()\n",
        "points_t"
      ],
      "execution_count": null,
      "outputs": []
    },
    {
      "cell_type": "markdown",
      "metadata": {
        "id": "bSzZsISmFTXe",
        "colab_type": "text"
      },
      "source": [
        "`transpose()`  \n",
        "we can transpose a multidimentional array be specifying the two dimensions along which transposing.\n"
      ]
    },
    {
      "cell_type": "code",
      "metadata": {
        "id": "0gckDwyJDuk2",
        "colab_type": "code",
        "colab": {}
      },
      "source": [
        "points = torch.ones(2, 3, 5)\n",
        "points_t = points.transpose(0, 2)"
      ],
      "execution_count": null,
      "outputs": []
    },
    {
      "cell_type": "markdown",
      "metadata": {
        "id": "SI0AaWkqFytH",
        "colab_type": "text"
      },
      "source": [
        "## contiguous tensors"
      ]
    },
    {
      "cell_type": "markdown",
      "metadata": {
        "id": "uNfq6WFBGNO2",
        "colab_type": "text"
      },
      "source": [
        "`is_contiguous()`"
      ]
    },
    {
      "cell_type": "code",
      "metadata": {
        "id": "p6H371K-F3Q_",
        "colab_type": "code",
        "colab": {}
      },
      "source": [
        "print(points.is_contiguous(), points_t.is_contiguous())"
      ],
      "execution_count": null,
      "outputs": []
    },
    {
      "cell_type": "markdown",
      "metadata": {
        "id": "jjVdfo61GRmK",
        "colab_type": "text"
      },
      "source": [
        "contiguous()"
      ]
    },
    {
      "cell_type": "code",
      "metadata": {
        "id": "BTNaz1sRGA41",
        "colab_type": "code",
        "colab": {}
      },
      "source": [
        "points_t_cont = points_t.contiguous()\n",
        "points_t_cont"
      ],
      "execution_count": null,
      "outputs": []
    },
    {
      "cell_type": "markdown",
      "metadata": {
        "id": "GlZtTTDZG4uC",
        "colab_type": "text"
      },
      "source": [
        "# Moving tensors to the GPU"
      ]
    },
    {
      "cell_type": "code",
      "metadata": {
        "id": "lSa2hIOmG7il",
        "colab_type": "code",
        "colab": {}
      },
      "source": [
        "points_gpu = torch.tensor([[4.0, 1.0], [2.0, 3.0]], device='cuda')\n",
        "points_gpu = points.to(device='cuda')\n",
        "points_gpu = points.cuda()\n",
        "points_cpu = points.cpu()"
      ],
      "execution_count": null,
      "outputs": []
    },
    {
      "cell_type": "markdown",
      "metadata": {
        "id": "Xx0VfGq3Hdhe",
        "colab_type": "text"
      },
      "source": [
        "# Numpy interoperability"
      ]
    },
    {
      "cell_type": "code",
      "metadata": {
        "id": "VsSkCDaLHiTl",
        "colab_type": "code",
        "colab": {}
      },
      "source": [
        "points = torch.ones(3, 4)\n",
        "points_np = points.numpy()\n",
        "points_np"
      ],
      "execution_count": null,
      "outputs": []
    },
    {
      "cell_type": "code",
      "metadata": {
        "id": "HMQNZwHiH1Tx",
        "colab_type": "code",
        "colab": {}
      },
      "source": [
        "points = torch.from_numpy(points_np)\n",
        "points"
      ],
      "execution_count": null,
      "outputs": []
    }
  ]
}